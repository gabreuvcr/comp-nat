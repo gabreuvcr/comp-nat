{
 "metadata": {
  "language_info": {
   "codemirror_mode": {
    "name": "ipython",
    "version": 3
   },
   "file_extension": ".py",
   "mimetype": "text/x-python",
   "name": "python",
   "nbconvert_exporter": "python",
   "pygments_lexer": "ipython3",
   "version": "3.9.0-final"
  },
  "orig_nbformat": 2,
  "kernelspec": {
   "name": "python3",
   "display_name": "Python 3.9.0 64-bit",
   "metadata": {
    "interpreter": {
     "hash": "63fd5069d213b44bf678585dea6b12cceca9941eaf7f819626cde1f2670de90d"
    }
   }
  }
 },
 "nbformat": 4,
 "nbformat_minor": 2,
 "cells": [
  {
   "cell_type": "code",
   "execution_count": 16,
   "metadata": {},
   "outputs": [],
   "source": [
    "import random\n",
    "import time\n",
    "import math\n",
    "import copy\n",
    "\n",
    "\n",
    "INICIO, FINAL = ('i',), ('f',)\n",
    "\n",
    "class Formiga:\n",
    "    def __init__(self, makespan=0):\n",
    "        self.caminho = []\n",
    "        self.makespan = makespan\n",
    "\n",
    "class Colonia:\n",
    "    def __init__(self, maquinas, tempos, qtd_trab, qtd_maq):\n",
    "        self.maquinas = maquinas\n",
    "        self.tempos = tempos\n",
    "        self.qtd_trab = qtd_trab\n",
    "        self.qtd_maq = qtd_maq\n",
    "        qtd_ops = qtd_trab * qtd_maq\n",
    "        self.formigas = [Formiga() for _ in range(QTD_FORMIGAS)]\n",
    "        self.custos = [tempos[i // qtd_maq][i % qtd_maq] for i in range(qtd_ops)]\n",
    "        self.vertices = [(i // self.qtd_maq, i % self.qtd_maq) for i in range(qtd_ops)]\n",
    "        self.feromonio = [[-1 if i == j else FER_INICIAL for j in range(qtd_ops)] for i in range(qtd_ops + 1)]\n",
    "        self.grafo = self.cria_grafo()\n",
    "        self.desirability = self.calcula_desirability()\n",
    "        \n",
    "    def calcula_desirability(self):\n",
    "        desirability = []\n",
    "        for vertice in self.vertices:\n",
    "            trab, i_maq = vertice\n",
    "            tempo_finalizar = 0\n",
    "            while i_maq < self.qtd_maq:\n",
    "                tempo_finalizar += self.tempos[trab][i_maq]\n",
    "                i_maq += 1\n",
    "            desirability.append(tempo_finalizar)\n",
    "        return desirability\n",
    "\n",
    "    def cria_grafo(self):\n",
    "        grafo = {}\n",
    "        grafo[INICIO], grafo[FINAL]= [], []\n",
    "        for i in range(self.qtd_trab):\n",
    "            grafo[INICIO] += [(i, self.maquinas[i][0])]\n",
    "\n",
    "        for i_vertice in self.vertices:\n",
    "            trab, maq = i_vertice\n",
    "            i_maq = self.maquinas[trab].index(maq)\n",
    "            if i_maq + 1 < self.qtd_maq:\n",
    "                prox_maq = self.maquinas[trab][i_maq + 1]\n",
    "                grafo[i_vertice] = [(trab, prox_maq)]\n",
    "            else:\n",
    "                grafo[i_vertice] = [FINAL]\n",
    "            for j_vertice in self.vertices:\n",
    "                trab_j, maq_j = j_vertice\n",
    "                if maq == maq_j and i_vertice != j_vertice:\n",
    "                    grafo[i_vertice] += [(trab_j, maq_j, 'bd')]\n",
    "        return grafo\n",
    "    \n",
    "    def grafo_direcionado(self, caminho):\n",
    "        grafo_di = copy.deepcopy(self.grafo)\n",
    "        for vertice in grafo_di:\n",
    "            copia_adjacentes = grafo_di[vertice][:]\n",
    "            for adjacente in copia_adjacentes:\n",
    "                if len(adjacente) == 3:\n",
    "                    adjacente_di = (adjacente[0], adjacente[1])\n",
    "                    i_vertice, i_adjacente = caminho.index(vertice), caminho.index(adjacente_di)\n",
    "                    if i_vertice < i_adjacente:\n",
    "                        grafo_di[vertice].remove(adjacente)\n",
    "                        grafo_di[vertice].append(adjacente_di)\n",
    "                        grafo_di[adjacente_di].remove((vertice[0], vertice[1], 'bd'))\n",
    "                    else:\n",
    "                        grafo_di[adjacente_di].remove((vertice[0], vertice[1], 'bd'))\n",
    "                        grafo_di[adjacente_di].append(vertice)\n",
    "                        grafo_di[vertice].remove(adjacente)\n",
    "        return grafo_di\n",
    "    \n",
    "    def index(self, trab_maq):\n",
    "        if trab_maq == INICIO:\n",
    "            return len(self.feromonio) - 1\n",
    "        trab, maq = trab_maq\n",
    "        return trab * self.qtd_maq + self.maquinas[trab].index(maq)\n",
    "        \n",
    "    def custo(self, adjacente):\n",
    "        if adjacente == FINAL:\n",
    "            return 0\n",
    "        return self.custos[self.index(adjacente)]\n",
    "\n",
    "    def calcula_makespan(self, caminho):\n",
    "        grafo_di = self.grafo_direcionado(caminho)\n",
    "        tempo = {vertice: -1 for vertice in caminho}\n",
    "        tempo[INICIO] = tempo[FINAL] = 0\n",
    "        \n",
    "        for adjacente in grafo_di[INICIO]:\n",
    "            tempo[adjacente] = self.custos[self.index(adjacente)]\n",
    "        for vertice in caminho:\n",
    "            for adjacente in grafo_di[vertice]:\n",
    "                custo = self.custo(adjacente)\n",
    "                if tempo[adjacente] < tempo[vertice] + custo:\n",
    "                    tempo[adjacente] = tempo[vertice] + custo\n",
    "        return tempo[FINAL]\n",
    "\n",
    "    def calcula_probabilidade(self, atual, candidato):\n",
    "        i_atual = self.index(atual)\n",
    "        i_candidato = self.index(candidato)\n",
    "        tij = self.feromonio[i_atual][i_candidato]\n",
    "        nij = self.desirability[i_candidato]\n",
    "        return (tij ** ALFA) * (nij ** BETA)\n",
    "\n",
    "    def proximo(self, proximos, atual):\n",
    "        somatorio_probs, probs = 0, []\n",
    "        for i in range(len(proximos)):\n",
    "            somatorio_probs += self.calcula_probabilidade(atual, proximos[i])\n",
    "        for i in range(len(proximos)):\n",
    "            probs.append(self.calcula_probabilidade(atual, proximos[i]) / somatorio_probs)\n",
    "\n",
    "        escolhido = random.choices(proximos, weights=probs)\n",
    "        trab, maq = escolhido[0]\n",
    "        proximos.remove((trab, maq))\n",
    "        i_maq = self.maquinas[trab].index(maq)\n",
    "        if i_maq + 1 < self.qtd_maq:\n",
    "            prox_maq = self.maquinas[trab][i_maq + 1]\n",
    "            proximos.append((trab, prox_maq))\n",
    "        return (trab, maq)\n",
    "\n",
    "    def caminha_formiga(self, formiga):\n",
    "        proximos = [(trab, self.maquinas[trab][0]) for trab in range(self.qtd_trab)]\n",
    "        atual = INICIO\n",
    "        while proximos:\n",
    "            atual = self.proximo(proximos, atual)\n",
    "            trab, maq = atual\n",
    "            formiga.caminho.append((trab, maq))\n",
    "        formiga.makespan = self.calcula_makespan(formiga.caminho)\n",
    "\n",
    "    def reseta_formigas(self):\n",
    "        for formiga in self.formigas:\n",
    "            formiga.caminho = []\n",
    "    \n",
    "    def atualiza_feromonios(self, formiga):\n",
    "        for i in range(len(self.feromonio)):\n",
    "            for j in range(len(self.feromonio[i])):\n",
    "                if self.feromonio[i][j] == -1:\n",
    "                    continue\n",
    "                self.feromonio[i][j] *=  1 - TX_EVA\n",
    "\n",
    "        # for formiga in self.formigas:\n",
    "        qtd_feromonio = 1 / formiga.makespan\n",
    "        for i in range(len(formiga.caminho) - 1):\n",
    "            i_atual = self.index(formiga.caminho[i])\n",
    "            i_prox = self.index(formiga.caminho[i + 1])\n",
    "            self.feromonio[i_atual][i_prox] += qtd_feromonio\n",
    "        inicio = self.index(INICIO)\n",
    "        primeiro = self.index(formiga.caminho[0])\n",
    "        self.feromonio[inicio][primeiro] += qtd_feromonio\n",
    "        self.reseta_formigas()\n",
    "\n",
    "    def execucao(self):\n",
    "        melhor_formiga = Formiga(math.inf)\n",
    "        for _ in range(ITERACOES):\n",
    "            for formiga in self.formigas:\n",
    "                self.caminha_formiga(formiga)\n",
    "                if formiga.makespan < melhor_formiga.makespan:\n",
    "                    melhor_formiga.makespan = formiga.makespan\n",
    "                    melhor_formiga.caminho = formiga.caminho[:]\n",
    "            # print(f\"{melhor_formiga.makespan} \", end='')\n",
    "            self.atualiza_feromonios(melhor_formiga)\n",
    "        # print(f\"\\nMelhor makespan: {melhor_formiga.makespan}\")\n",
    "        # print(f\"Melhor caminho: {melhor_formiga.caminho}\")\n",
    "        return melhor_formiga.makespan\n",
    "\n",
    "def arquivo_entrada(nome_arquivo):\n",
    "    try:\n",
    "        with open(nome_arquivo) as arquivo:\n",
    "            maquinas, tempos = [], []\n",
    "            linha = \"\"\n",
    "            while not linha or not linha[0].isnumeric():\n",
    "                linha = arquivo.readline().strip()\n",
    "            qtd_trab, qtd_maq = [int(num) for num in linha.split()]\n",
    "            for i, linha in enumerate(arquivo):\n",
    "                linha_split = [int(num) for num in linha.split()]\n",
    "                maquinas.append([]), tempos.append([])\n",
    "                for j in range(0, len(linha_split), 2):\n",
    "                    maquinas[i] += [linha_split[j]]\n",
    "                    tempos[i]   += [linha_split[j + 1]]\n",
    "    except FileNotFoundError:\n",
    "        print(\"arquivo nao encontrado\")\n",
    "        exit(1)\n",
    "    return maquinas, tempos, qtd_trab, qtd_maq"
   ]
  },
  {
   "cell_type": "code",
   "execution_count": 29,
   "metadata": {},
   "outputs": [],
   "source": [
    "QTD_FORMIGAS_LIST = [25, 50, 100]\n",
    "ITERACOES_LIST = [25, 50, 100]\n",
    "TX_EVA_LIST = [0.1, 0.25, 0.5]\n",
    "FER_INICIAL_LIST = [0.001, 0.01, 0.1]\n",
    "ALFA_LIST = [0.5, 1, 2, 5]\n",
    "BETA_LIST = [0.5, 1, 2, 5]"
   ]
  },
  {
   "source": [
    "## ft06"
   ],
   "cell_type": "markdown",
   "metadata": {}
  },
  {
   "cell_type": "code",
   "execution_count": 18,
   "metadata": {},
   "outputs": [
    {
     "output_type": "stream",
     "name": "stdout",
     "text": [
      "Quantidade de formigas: 25: 60.8\nQuantidade de formigas: 50: 59.2\nQuantidade de formigas: 100: 58.7\n59.2002 segundos\n"
     ]
    }
   ],
   "source": [
    "\n",
    "ITERACOES = 25\n",
    "FER_INICIAL = 0.01\n",
    "TX_EVA = 0.25\n",
    "ALFA = 1\n",
    "BETA = 1\n",
    "\n",
    "start = time.time()\n",
    "maquinas, tempos, qtd_trab, qtd_maq = arquivo_entrada(f\"files/ft06.txt\")\n",
    "\n",
    "medias = []\n",
    "for qnt_formiga in QTD_FORMIGAS_LIST:\n",
    "    makespans = []\n",
    "    for i in range(10):\n",
    "        QTD_FORMIGAS = qnt_formiga\n",
    "        colonia = Colonia(maquinas, tempos, qtd_trab, qtd_maq)\n",
    "        makespans.append(colonia.execucao())\n",
    "    medias.append(sum(makespans) / len(makespans))\n",
    "    \n",
    "for i in range(len(medias)):\n",
    "    print(f\"Quantidade de formigas: {QTD_FORMIGAS_LIST[i]}: {medias[i]}\")\n",
    "print(f\"{time.time() - start:.4f} segundos\")"
   ]
  },
  {
   "cell_type": "code",
   "execution_count": 19,
   "metadata": {},
   "outputs": [
    {
     "output_type": "stream",
     "name": "stdout",
     "text": [
      "Iteracoes: 25: 59.2\nIteracoes: 50: 58.6\nIteracoes: 100: 59.4\n240.7951 segundos\n"
     ]
    }
   ],
   "source": [
    "QTD_FORMIGAS = 100\n",
    "\n",
    "FER_INICIAL = 0.01\n",
    "TX_EVA = 0.25\n",
    "ALFA = 1\n",
    "BETA = 1\n",
    "\n",
    "start = time.time()\n",
    "maquinas, tempos, qtd_trab, qtd_maq = arquivo_entrada(f\"files/ft06.txt\")\n",
    "\n",
    "medias = []\n",
    "for iteracoes in ITERACOES_LIST:\n",
    "    makespans = []\n",
    "    for i in range(10):\n",
    "        ITERACOES = iteracoes\n",
    "        colonia = Colonia(maquinas, tempos, qtd_trab, qtd_maq)\n",
    "        makespans.append(colonia.execucao())\n",
    "    medias.append(sum(makespans) / len(makespans))\n",
    "    \n",
    "for i in range(len(medias)):\n",
    "    print(f\"Iteracoes: {ITERACOES_LIST[i]}: {medias[i]}\")\n",
    "print(f\"{time.time() - start:.4f} segundos\")"
   ]
  },
  {
   "cell_type": "code",
   "execution_count": 23,
   "metadata": {},
   "outputs": [
    {
     "output_type": "stream",
     "name": "stdout",
     "text": [
      "Feromonio inicial: 0.001: 60.0\nFeromonio inicial: 0.01: 59.3\nFeromonio inicial: 0.1: 57.7\nFeromonio inicial: 0.25: 57.7\n277.2302 segundos\n"
     ]
    }
   ],
   "source": [
    "QTD_FORMIGAS = 100\n",
    "ITERACOES = 50\n",
    "\n",
    "TX_EVA = 0.25\n",
    "ALFA = 1\n",
    "BETA = 1\n",
    "\n",
    "start = time.time()\n",
    "maquinas, tempos, qtd_trab, qtd_maq = arquivo_entrada(f\"files/ft06.txt\")\n",
    "\n",
    "medias = []\n",
    "for fer_inicial in FER_INICIAL_LIST:\n",
    "    makespans = []\n",
    "    for i in range(10):\n",
    "        FER_INICIAL = fer_inicial\n",
    "        colonia = Colonia(maquinas, tempos, qtd_trab, qtd_maq)\n",
    "        makespans.append(colonia.execucao())\n",
    "    medias.append(sum(makespans) / len(makespans))\n",
    "    \n",
    "for i in range(len(medias)):\n",
    "    print(f\"Feromonio inicial: {FER_INICIAL_LIST[i]}: {medias[i]}\")\n",
    "print(f\"{time.time() - start:.4f} segundos\")"
   ]
  },
  {
   "cell_type": "code",
   "execution_count": 25,
   "metadata": {},
   "outputs": [
    {
     "output_type": "stream",
     "name": "stdout",
     "text": [
      "Taxa evaporacao: 0.1: 58.7\nTaxa evaporacao: 0.25: 59.3\nTaxa evaporacao: 0.5: 58.7\n204.9405 segundos\n"
     ]
    }
   ],
   "source": [
    "QTD_FORMIGAS = 100\n",
    "ITERACOES = 50\n",
    "FER_INICIAL = 0.1\n",
    "\n",
    "ALFA = 1\n",
    "BETA = 1\n",
    "\n",
    "start = time.time()\n",
    "maquinas, tempos, qtd_trab, qtd_maq = arquivo_entrada(f\"files/ft06.txt\")\n",
    "\n",
    "medias = []\n",
    "for tx_eva in TX_EVA_LIST:\n",
    "    makespans = []\n",
    "    for i in range(10):\n",
    "        TX_EVA = tx_eva\n",
    "        colonia = Colonia(maquinas, tempos, qtd_trab, qtd_maq)\n",
    "        makespans.append(colonia.execucao())\n",
    "    medias.append(sum(makespans) / len(makespans))\n",
    "    \n",
    "for i in range(len(medias)):\n",
    "    print(f\"Taxa evaporacao: {TX_EVA_LIST[i]}: {medias[i]}\")\n",
    "print(f\"{time.time() - start:.4f} segundos\")"
   ]
  },
  {
   "cell_type": "code",
   "execution_count": 26,
   "metadata": {},
   "outputs": [
    {
     "output_type": "stream",
     "name": "stdout",
     "text": [
      "Alfa: 0.5: 58.9\nAlfa: 1: 58.2\nAlfa: 2: 58.8\nAlfa: 5: 58.5\n277.1430 segundos\n"
     ]
    }
   ],
   "source": [
    "QTD_FORMIGAS = 100\n",
    "ITERACOES = 50\n",
    "FER_INICIAL = 0.1\n",
    "TX_EVA = 0.1\n",
    "\n",
    "BETA = 1\n",
    "\n",
    "start = time.time()\n",
    "maquinas, tempos, qtd_trab, qtd_maq = arquivo_entrada(f\"files/ft06.txt\")\n",
    "\n",
    "medias = []\n",
    "for alfa in ALFA_LIST:\n",
    "    makespans = []\n",
    "    for i in range(10):\n",
    "        ALFA = alfa\n",
    "        colonia = Colonia(maquinas, tempos, qtd_trab, qtd_maq)\n",
    "        makespans.append(colonia.execucao())\n",
    "    medias.append(sum(makespans) / len(makespans))\n",
    "    \n",
    "for i in range(len(medias)):\n",
    "    print(f\"Alfa: {ALFA_LIST[i]}: {medias[i]}\")\n",
    "print(f\"{time.time() - start:.4f} segundos\")"
   ]
  },
  {
   "cell_type": "code",
   "execution_count": 27,
   "metadata": {},
   "outputs": [
    {
     "output_type": "stream",
     "name": "stdout",
     "text": [
      "Beta: 0.5: 58.0\nBeta: 1: 58.1\nBeta: 2: 55.8\nBeta: 5: 56.5\n269.7323 segundos\n"
     ]
    }
   ],
   "source": [
    "QTD_FORMIGAS = 100\n",
    "ITERACOES = 50\n",
    "FER_INICIAL = 0.1\n",
    "TX_EVA = 0.1\n",
    "ALFA = 1\n",
    "\n",
    "start = time.time()\n",
    "maquinas, tempos, qtd_trab, qtd_maq = arquivo_entrada(f\"files/ft06.txt\")\n",
    "\n",
    "medias = []\n",
    "for beta in BETA_LIST:\n",
    "    makespans = []\n",
    "    for i in range(10):\n",
    "        BETA = beta\n",
    "        colonia = Colonia(maquinas, tempos, qtd_trab, qtd_maq)\n",
    "        makespans.append(colonia.execucao())\n",
    "    medias.append(sum(makespans) / len(makespans))\n",
    "    \n",
    "for i in range(len(medias)):\n",
    "    print(f\"Beta: {BETA_LIST[i]}: {medias[i]}\")\n",
    "print(f\"{time.time() - start:.4f} segundos\")"
   ]
  },
  {
   "cell_type": "code",
   "execution_count": 28,
   "metadata": {},
   "outputs": [],
   "source": [
    "## MELHOR FT06\n",
    "## QTD_FORMIGAS = 100\n",
    "## ITERACOES = 50\n",
    "## FER_INICIAL = 0.1\n",
    "## TX_EVA = 0.1\n",
    "## ALFA = 1\n",
    "## BETA = 2"
   ]
  },
  {
   "source": [
    "## la01"
   ],
   "cell_type": "markdown",
   "metadata": {}
  },
  {
   "cell_type": "code",
   "execution_count": 30,
   "metadata": {},
   "outputs": [
    {
     "output_type": "stream",
     "name": "stdout",
     "text": [
      "Quantidade de formigas: 25: 742.0\nQuantidade de formigas: 50: 729.1\nQuantidade de formigas: 100: 719.2\n134.3801 segundos\n"
     ]
    }
   ],
   "source": [
    "\n",
    "ITERACOES = 25\n",
    "FER_INICIAL = 0.01\n",
    "TX_EVA = 0.25\n",
    "ALFA = 1\n",
    "BETA = 1\n",
    "\n",
    "start = time.time()\n",
    "maquinas, tempos, qtd_trab, qtd_maq = arquivo_entrada(f\"files/la01.txt\")\n",
    "\n",
    "medias = []\n",
    "for qnt_formiga in QTD_FORMIGAS_LIST:\n",
    "    makespans = []\n",
    "    for i in range(10):\n",
    "        QTD_FORMIGAS = qnt_formiga\n",
    "        colonia = Colonia(maquinas, tempos, qtd_trab, qtd_maq)\n",
    "        makespans.append(colonia.execucao())\n",
    "    medias.append(sum(makespans) / len(makespans))\n",
    "    \n",
    "for i in range(len(medias)):\n",
    "    print(f\"Quantidade de formigas: {QTD_FORMIGAS_LIST[i]}: {medias[i]}\")\n",
    "print(f\"{time.time() - start:.4f} segundos\")"
   ]
  },
  {
   "cell_type": "code",
   "execution_count": 31,
   "metadata": {},
   "outputs": [
    {
     "output_type": "stream",
     "name": "stdout",
     "text": [
      "Iteracoes: 25: 719.3\nIteracoes: 50: 723.0\nIteracoes: 100: 723.0\n517.3064 segundos\n"
     ]
    }
   ],
   "source": [
    "QTD_FORMIGAS = 100\n",
    "\n",
    "FER_INICIAL = 0.01\n",
    "TX_EVA = 0.25\n",
    "ALFA = 1\n",
    "BETA = 1\n",
    "\n",
    "start = time.time()\n",
    "maquinas, tempos, qtd_trab, qtd_maq = arquivo_entrada(f\"files/la01.txt\")\n",
    "\n",
    "medias = []\n",
    "for iteracoes in ITERACOES_LIST:\n",
    "    makespans = []\n",
    "    for i in range(10):\n",
    "        ITERACOES = iteracoes\n",
    "        colonia = Colonia(maquinas, tempos, qtd_trab, qtd_maq)\n",
    "        makespans.append(colonia.execucao())\n",
    "    medias.append(sum(makespans) / len(makespans))\n",
    "    \n",
    "for i in range(len(medias)):\n",
    "    print(f\"Iteracoes: {ITERACOES_LIST[i]}: {medias[i]}\")\n",
    "print(f\"{time.time() - start:.4f} segundos\")"
   ]
  },
  {
   "cell_type": "code",
   "execution_count": 32,
   "metadata": {},
   "outputs": [
    {
     "output_type": "stream",
     "name": "stdout",
     "text": [
      "Feromonio inicial: 0.001: 715.5\nFeromonio inicial: 0.01: 709.6\nFeromonio inicial: 0.1: 728.2\n222.3795 segundos\n"
     ]
    }
   ],
   "source": [
    "QTD_FORMIGAS = 100\n",
    "ITERACOES = 25\n",
    "\n",
    "TX_EVA = 0.25\n",
    "ALFA = 1\n",
    "BETA = 1\n",
    "\n",
    "start = time.time()\n",
    "maquinas, tempos, qtd_trab, qtd_maq = arquivo_entrada(f\"files/la01.txt\")\n",
    "\n",
    "medias = []\n",
    "for fer_inicial in FER_INICIAL_LIST:\n",
    "    makespans = []\n",
    "    for i in range(10):\n",
    "        FER_INICIAL = fer_inicial\n",
    "        colonia = Colonia(maquinas, tempos, qtd_trab, qtd_maq)\n",
    "        makespans.append(colonia.execucao())\n",
    "    medias.append(sum(makespans) / len(makespans))\n",
    "    \n",
    "for i in range(len(medias)):\n",
    "    print(f\"Feromonio inicial: {FER_INICIAL_LIST[i]}: {medias[i]}\")\n",
    "print(f\"{time.time() - start:.4f} segundos\")"
   ]
  },
  {
   "cell_type": "code",
   "execution_count": 34,
   "metadata": {},
   "outputs": [
    {
     "output_type": "stream",
     "name": "stdout",
     "text": [
      "Taxa evaporacao: 0.1: 732.3\nTaxa evaporacao: 0.25: 722.2\nTaxa evaporacao: 0.5: 734.1\n216.3741 segundos\n"
     ]
    }
   ],
   "source": [
    "QTD_FORMIGAS = 100\n",
    "ITERACOES = 25\n",
    "FER_INICIAL = 0.01\n",
    "\n",
    "ALFA = 1\n",
    "BETA = 1\n",
    "\n",
    "start = time.time()\n",
    "maquinas, tempos, qtd_trab, qtd_maq = arquivo_entrada(f\"files/la01.txt\")\n",
    "\n",
    "medias = []\n",
    "for tx_eva in TX_EVA_LIST:\n",
    "    makespans = []\n",
    "    for i in range(10):\n",
    "        TX_EVA = tx_eva\n",
    "        colonia = Colonia(maquinas, tempos, qtd_trab, qtd_maq)\n",
    "        makespans.append(colonia.execucao())\n",
    "    medias.append(sum(makespans) / len(makespans))\n",
    "    \n",
    "for i in range(len(medias)):\n",
    "    print(f\"Taxa evaporacao: {TX_EVA_LIST[i]}: {medias[i]}\")\n",
    "print(f\"{time.time() - start:.4f} segundos\")"
   ]
  },
  {
   "cell_type": "code",
   "execution_count": 35,
   "metadata": {},
   "outputs": [
    {
     "output_type": "stream",
     "name": "stdout",
     "text": [
      "Alfa: 0.5: 738.9\nAlfa: 1: 713.0\nAlfa: 2: 729.4\nAlfa: 5: 735.6\n302.3548 segundos\n"
     ]
    }
   ],
   "source": [
    "QTD_FORMIGAS = 100\n",
    "ITERACOES = 25\n",
    "FER_INICIAL = 0.01\n",
    "TX_EVA = 0.25\n",
    "\n",
    "BETA = 1\n",
    "\n",
    "start = time.time()\n",
    "maquinas, tempos, qtd_trab, qtd_maq = arquivo_entrada(f\"files/la01.txt\")\n",
    "\n",
    "medias = []\n",
    "for alfa in ALFA_LIST:\n",
    "    makespans = []\n",
    "    for i in range(10):\n",
    "        ALFA = alfa\n",
    "        colonia = Colonia(maquinas, tempos, qtd_trab, qtd_maq)\n",
    "        makespans.append(colonia.execucao())\n",
    "    medias.append(sum(makespans) / len(makespans))\n",
    "    \n",
    "for i in range(len(medias)):\n",
    "    print(f\"Alfa: {ALFA_LIST[i]}: {medias[i]}\")\n",
    "print(f\"{time.time() - start:.4f} segundos\")"
   ]
  },
  {
   "cell_type": "code",
   "execution_count": 36,
   "metadata": {},
   "outputs": [
    {
     "output_type": "stream",
     "name": "stdout",
     "text": [
      "Beta: 0.5: 735.6\nBeta: 1: 725.3\nBeta: 2: 685.9\nBeta: 5: 673.8\n297.0101 segundos\n"
     ]
    }
   ],
   "source": [
    "QTD_FORMIGAS = 100\n",
    "ITERACOES = 25\n",
    "FER_INICIAL = 0.01\n",
    "TX_EVA = 0.25\n",
    "ALFA = 1\n",
    "\n",
    "start = time.time()\n",
    "maquinas, tempos, qtd_trab, qtd_maq = arquivo_entrada(f\"files/la01.txt\")\n",
    "\n",
    "medias = []\n",
    "for beta in BETA_LIST:\n",
    "    makespans = []\n",
    "    for i in range(10):\n",
    "        BETA = beta\n",
    "        colonia = Colonia(maquinas, tempos, qtd_trab, qtd_maq)\n",
    "        makespans.append(colonia.execucao())\n",
    "    medias.append(sum(makespans) / len(makespans))\n",
    "    \n",
    "for i in range(len(medias)):\n",
    "    print(f\"Beta: {BETA_LIST[i]}: {medias[i]}\")\n",
    "print(f\"{time.time() - start:.4f} segundos\")"
   ]
  },
  {
   "cell_type": "code",
   "execution_count": null,
   "metadata": {},
   "outputs": [],
   "source": [
    "## MELHOR LA01\n",
    "## QTD_FORMIGAS = 100\n",
    "## ITERACOES = 25\n",
    "## FER_INICIAL = 0.01\n",
    "## TX_EVA = 0.25\n",
    "## ALFA = 1\n",
    "## BETA = 5"
   ]
  },
  {
   "cell_type": "code",
   "execution_count": 44,
   "metadata": {},
   "outputs": [],
   "source": [
    "import numpy as np\n",
    "import math"
   ]
  },
  {
   "source": [
    "## Usando parametros do ft06"
   ],
   "cell_type": "markdown",
   "metadata": {}
  },
  {
   "cell_type": "code",
   "execution_count": 50,
   "metadata": {},
   "outputs": [],
   "source": [
    "QTD_FORMIGAS = 100\n",
    "ITERACOES = 50\n",
    "FER_INICIAL = 0.1\n",
    "TX_EVA = 0.1\n",
    "ALFA = 1\n",
    "BETA = 2"
   ]
  },
  {
   "cell_type": "code",
   "execution_count": 46,
   "metadata": {},
   "outputs": [
    {
     "output_type": "stream",
     "name": "stdout",
     "text": [
      "Media: 56.7\nDesvio padrão: 1.4866068747318504\nDiferenca otimo: 0\nNum otimos: 7\n138.3942 segundos\n"
     ]
    }
   ],
   "source": [
    "#ft06\n",
    "\n",
    "start = time.time()\n",
    "maquinas, tempos, qtd_trab, qtd_maq = arquivo_entrada(f\"files/ft06.txt\")\n",
    "\n",
    "otimo = 55\n",
    "num_otimos = media = desvio_padrao = 0\n",
    "makespans = []\n",
    "melhor_makespan = math.inf\n",
    "for i in range(20):\n",
    "    colonia = Colonia(maquinas, tempos, qtd_trab, qtd_maq)\n",
    "    makespan = colonia.execucao()\n",
    "    if makespan < melhor_makespan:\n",
    "        melhor_makespan = makespan\n",
    "    if makespan == otimo:\n",
    "        num_otimos += 1\n",
    "    makespans.append(makespan)\n",
    "\n",
    "media = np.mean(makespans)\n",
    "desvio_padrao = np.std(makespans)    \n",
    "print(f\"Media: {media}\\nDesvio padrão: {desvio_padrao}\\nDiferenca otimo: {melhor_makespan - otimo}\\nNum otimos: {num_otimos}\")\n",
    "print(f\"{time.time() - start:.4f} segundos\")"
   ]
  },
  {
   "cell_type": "code",
   "execution_count": 49,
   "metadata": {},
   "outputs": [
    {
     "output_type": "stream",
     "name": "stdout",
     "text": [
      "Media: 706.45\nDesvio padrão: 17.168211904563623\nDiferenca otimo: 2\nNum otimos: 0\n305.5543 segundos\n"
     ]
    }
   ],
   "source": [
    "#la01\n",
    "\n",
    "start = time.time()\n",
    "maquinas, tempos, qtd_trab, qtd_maq = arquivo_entrada(f\"files/la01.txt\")\n",
    "\n",
    "otimo = 666\n",
    "num_otimos = media = desvio_padrao = 0\n",
    "makespans = []\n",
    "melhor_makespan = math.inf\n",
    "for i in range(20):\n",
    "    colonia = Colonia(maquinas, tempos, qtd_trab, qtd_maq)\n",
    "    makespan = colonia.execucao()\n",
    "    if makespan < melhor_makespan:\n",
    "        melhor_makespan = makespan\n",
    "    if makespan == otimo:\n",
    "        num_otimos += 1\n",
    "    makespans.append(makespan)\n",
    "\n",
    "media = np.mean(makespans)\n",
    "desvio_padrao = np.std(makespans)    \n",
    "print(f\"Media: {media}\\nDesvio padrão: {desvio_padrao}\\nDiferenca otimo: {melhor_makespan - otimo}\\nNum otimos: {num_otimos}\")\n",
    "print(f\"{time.time() - start:.4f} segundos\")"
   ]
  },
  {
   "cell_type": "code",
   "execution_count": 51,
   "metadata": {},
   "outputs": [
    {
     "output_type": "stream",
     "name": "stdout",
     "text": [
      "Media: 1706.9\nDesvio padrão: 30.54488500551279\nDiferenca otimo: 509\nNum otimos: 0\n3146.2992 segundos\n"
     ]
    }
   ],
   "source": [
    "#la29\n",
    "\n",
    "start = time.time()\n",
    "maquinas, tempos, qtd_trab, qtd_maq = arquivo_entrada(f\"files/la29.txt\")\n",
    "\n",
    "otimo = 1157\n",
    "num_otimos = media = desvio_padrao = 0\n",
    "makespans = []\n",
    "melhor_makespan = math.inf\n",
    "for i in range(20):\n",
    "    colonia = Colonia(maquinas, tempos, qtd_trab, qtd_maq)\n",
    "    makespan = colonia.execucao()\n",
    "    if makespan < melhor_makespan:\n",
    "        melhor_makespan = makespan\n",
    "    if makespan == otimo:\n",
    "        num_otimos += 1\n",
    "    makespans.append(makespan)\n",
    "\n",
    "media = np.mean(makespans)\n",
    "desvio_padrao = np.std(makespans)    \n",
    "print(f\"Media: {media}\\nDesvio padrão: {desvio_padrao}\\nDiferenca otimo: {melhor_makespan - otimo}\\nNum otimos: {num_otimos}\")\n",
    "print(f\"{time.time() - start:.4f} segundos\")"
   ]
  },
  {
   "cell_type": "code",
   "execution_count": 52,
   "metadata": {},
   "outputs": [
    {
     "output_type": "stream",
     "name": "stdout",
     "text": [
      "Media: 1825.95\nDesvio padrão: 40.35898289104917\nDiferenca otimo: 529\nNum otimos: 0\n2802.6885 segundos\n"
     ]
    }
   ],
   "source": [
    "#la40\n",
    "\n",
    "start = time.time()\n",
    "maquinas, tempos, qtd_trab, qtd_maq = arquivo_entrada(f\"files/la40.txt\")\n",
    "\n",
    "otimo = 1222\n",
    "num_otimos = media = desvio_padrao = 0\n",
    "makespans = []\n",
    "melhor_makespan = math.inf\n",
    "for i in range(20):\n",
    "    colonia = Colonia(maquinas, tempos, qtd_trab, qtd_maq)\n",
    "    makespan = colonia.execucao()\n",
    "    if makespan < melhor_makespan:\n",
    "        melhor_makespan = makespan\n",
    "    if makespan == otimo:\n",
    "        num_otimos += 1\n",
    "    makespans.append(makespan)\n",
    "\n",
    "media = np.mean(makespans)\n",
    "desvio_padrao = np.std(makespans)    \n",
    "print(f\"Media: {media}\\nDesvio padrão: {desvio_padrao}\\nDiferenca otimo: {melhor_makespan - otimo}\\nNum otimos: {num_otimos}\")\n",
    "print(f\"{time.time() - start:.4f} segundos\")"
   ]
  },
  {
   "source": [
    "## Usando parametros do la01"
   ],
   "cell_type": "markdown",
   "metadata": {}
  },
  {
   "cell_type": "code",
   "execution_count": 53,
   "metadata": {},
   "outputs": [],
   "source": [
    "QTD_FORMIGAS = 100\n",
    "ITERACOES = 25\n",
    "FER_INICIAL = 0.01\n",
    "TX_EVA = 0.25\n",
    "ALFA = 1\n",
    "BETA = 5"
   ]
  },
  {
   "cell_type": "code",
   "execution_count": 54,
   "metadata": {},
   "outputs": [
    {
     "output_type": "stream",
     "name": "stdout",
     "text": [
      "Media: 57.1\nDesvio padrão: 1.044030650891055\nDiferenca otimo: 0\nNum otimos: 2\n68.8270 segundos\n"
     ]
    }
   ],
   "source": [
    "#ft06\n",
    "\n",
    "start = time.time()\n",
    "maquinas, tempos, qtd_trab, qtd_maq = arquivo_entrada(f\"files/ft06.txt\")\n",
    "\n",
    "otimo = 55\n",
    "num_otimos = media = desvio_padrao = 0\n",
    "makespans = []\n",
    "melhor_makespan = math.inf\n",
    "for i in range(20):\n",
    "    colonia = Colonia(maquinas, tempos, qtd_trab, qtd_maq)\n",
    "    makespan = colonia.execucao()\n",
    "    if makespan < melhor_makespan:\n",
    "        melhor_makespan = makespan\n",
    "    if makespan == otimo:\n",
    "        num_otimos += 1\n",
    "    makespans.append(makespan)\n",
    "\n",
    "media = np.mean(makespans)\n",
    "desvio_padrao = np.std(makespans)    \n",
    "print(f\"Media: {media}\\nDesvio padrão: {desvio_padrao}\\nDiferenca otimo: {melhor_makespan - otimo}\\nNum otimos: {num_otimos}\")\n",
    "print(f\"{time.time() - start:.4f} segundos\")"
   ]
  },
  {
   "cell_type": "code",
   "execution_count": 55,
   "metadata": {},
   "outputs": [
    {
     "output_type": "stream",
     "name": "stdout",
     "text": [
      "Media: 676.7\nDesvio padrão: 10.663489110042736\nDiferenca otimo: 0\nNum otimos: 7\n151.9092 segundos\n"
     ]
    }
   ],
   "source": [
    "#la01\n",
    "\n",
    "start = time.time()\n",
    "maquinas, tempos, qtd_trab, qtd_maq = arquivo_entrada(f\"files/la01.txt\")\n",
    "\n",
    "otimo = 666\n",
    "num_otimos = media = desvio_padrao = 0\n",
    "makespans = []\n",
    "melhor_makespan = math.inf\n",
    "for i in range(20):\n",
    "    colonia = Colonia(maquinas, tempos, qtd_trab, qtd_maq)\n",
    "    makespan = colonia.execucao()\n",
    "    if makespan < melhor_makespan:\n",
    "        melhor_makespan = makespan\n",
    "    if makespan == otimo:\n",
    "        num_otimos += 1\n",
    "    makespans.append(makespan)\n",
    "\n",
    "media = np.mean(makespans)\n",
    "desvio_padrao = np.std(makespans)    \n",
    "print(f\"Media: {media}\\nDesvio padrão: {desvio_padrao}\\nDiferenca otimo: {melhor_makespan - otimo}\\nNum otimos: {num_otimos}\")\n",
    "print(f\"{time.time() - start:.4f} segundos\")"
   ]
  },
  {
   "cell_type": "code",
   "execution_count": 56,
   "metadata": {},
   "outputs": [
    {
     "output_type": "stream",
     "name": "stdout",
     "text": [
      "Media: 1659.25\nDesvio padrão: 17.03489066592445\nDiferenca otimo: 471\nNum otimos: 0\n1585.1327 segundos\n"
     ]
    }
   ],
   "source": [
    "#la29\n",
    "\n",
    "start = time.time()\n",
    "maquinas, tempos, qtd_trab, qtd_maq = arquivo_entrada(f\"files/la29.txt\")\n",
    "\n",
    "otimo = 1157\n",
    "num_otimos = media = desvio_padrao = 0\n",
    "makespans = []\n",
    "melhor_makespan = math.inf\n",
    "for i in range(20):\n",
    "    colonia = Colonia(maquinas, tempos, qtd_trab, qtd_maq)\n",
    "    makespan = colonia.execucao()\n",
    "    if makespan < melhor_makespan:\n",
    "        melhor_makespan = makespan\n",
    "    if makespan == otimo:\n",
    "        num_otimos += 1\n",
    "    makespans.append(makespan)\n",
    "\n",
    "media = np.mean(makespans)\n",
    "desvio_padrao = np.std(makespans)    \n",
    "print(f\"Media: {media}\\nDesvio padrão: {desvio_padrao}\\nDiferenca otimo: {melhor_makespan - otimo}\\nNum otimos: {num_otimos}\")\n",
    "print(f\"{time.time() - start:.4f} segundos\")"
   ]
  },
  {
   "cell_type": "code",
   "execution_count": 57,
   "metadata": {},
   "outputs": [
    {
     "output_type": "stream",
     "name": "stdout",
     "text": [
      "Media: 1809.95\nDesvio padrão: 26.72728007111835\nDiferenca otimo: 523\nNum otimos: 0\n1347.6169 segundos\n"
     ]
    }
   ],
   "source": [
    "#la40\n",
    "\n",
    "start = time.time()\n",
    "maquinas, tempos, qtd_trab, qtd_maq = arquivo_entrada(f\"files/la40.txt\")\n",
    "\n",
    "otimo = 1222\n",
    "num_otimos = media = desvio_padrao = 0\n",
    "makespans = []\n",
    "melhor_makespan = math.inf\n",
    "for i in range(20):\n",
    "    colonia = Colonia(maquinas, tempos, qtd_trab, qtd_maq)\n",
    "    makespan = colonia.execucao()\n",
    "    if makespan < melhor_makespan:\n",
    "        melhor_makespan = makespan\n",
    "    if makespan == otimo:\n",
    "        num_otimos += 1\n",
    "    makespans.append(makespan)\n",
    "\n",
    "media = np.mean(makespans)\n",
    "desvio_padrao = np.std(makespans)    \n",
    "print(f\"Media: {media}\\nDesvio padrão: {desvio_padrao}\\nDiferenca otimo: {melhor_makespan - otimo}\\nNum otimos: {num_otimos}\")\n",
    "print(f\"{time.time() - start:.4f} segundos\")"
   ]
  },
  {
   "cell_type": "code",
   "execution_count": null,
   "metadata": {},
   "outputs": [],
   "source": []
  }
 ]
}